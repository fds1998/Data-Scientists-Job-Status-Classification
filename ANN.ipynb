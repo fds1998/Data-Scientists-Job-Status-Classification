{
  "nbformat": 4,
  "nbformat_minor": 0,
  "metadata": {
    "colab": {
      "name": "project_STATS503_ANN_Code.ipynb",
      "provenance": [],
      "collapsed_sections": []
    },
    "kernelspec": {
      "name": "ir",
      "display_name": "R"
    },
    "language_info": {
      "name": "R"
    }
  },
  "cells": [
    {
      "cell_type": "code",
      "execution_count": 1,
      "metadata": {
        "colab": {
          "base_uri": "https://localhost:8080/"
        },
        "id": "kW0tyock3OZB",
        "outputId": "9ec7552a-dad3-440e-90ce-9d2b2a26fdf6"
      },
      "outputs": [
        {
          "output_type": "stream",
          "name": "stderr",
          "text": [
            "Installing package into ‘/usr/local/lib/R/site-library’\n",
            "(as ‘lib’ is unspecified)\n",
            "\n",
            "also installing the dependency ‘proxy’\n",
            "\n",
            "\n",
            "Installing package into ‘/usr/local/lib/R/site-library’\n",
            "(as ‘lib’ is unspecified)\n",
            "\n",
            "Installing package into ‘/usr/local/lib/R/site-library’\n",
            "(as ‘lib’ is unspecified)\n",
            "\n",
            "Downloading GitHub repo rstudio/keras@HEAD\n",
            "\n"
          ]
        },
        {
          "output_type": "stream",
          "name": "stdout",
          "text": [
            "png         (NA -> 0.1-7  ) [CRAN]\n",
            "here        (NA -> 1.0.1  ) [CRAN]\n",
            "RcppTOML    (NA -> 0.1.7  ) [CRAN]\n",
            "Rcpp        (NA -> 1.0.8.3) [CRAN]\n",
            "reticulate  (NA -> 1.24   ) [CRAN]\n",
            "config      (NA -> 0.3.1  ) [CRAN]\n",
            "tfautograph (NA -> 0.3.2  ) [CRAN]\n",
            "tfruns      (NA -> 1.5.0  ) [CRAN]\n",
            "zeallot     (NA -> 0.1.0  ) [CRAN]\n",
            "tensorflow  (NA -> 2.8.0  ) [CRAN]\n"
          ]
        },
        {
          "output_type": "stream",
          "name": "stderr",
          "text": [
            "Installing 10 packages: png, here, RcppTOML, Rcpp, reticulate, config, tfautograph, tfruns, zeallot, tensorflow\n",
            "\n",
            "Installing packages into ‘/usr/local/lib/R/site-library’\n",
            "(as ‘lib’ is unspecified)\n",
            "\n"
          ]
        },
        {
          "output_type": "stream",
          "name": "stdout",
          "text": [
            "* checking for file ‘/tmp/RtmpONfnXA/remotes3c78d3647f/rstudio-keras-4e9a6da/DESCRIPTION’ ... OK\n",
            "* preparing ‘keras’:\n",
            "* checking DESCRIPTION meta-information ... OK\n",
            "* checking for LF line-endings in source and make files and shell scripts\n",
            "* checking for empty or unneeded directories\n",
            "Removed empty directory ‘keras/man-roxygen’\n",
            "* building ‘keras_2.8.0.9000.tar.gz’\n",
            "\n"
          ]
        },
        {
          "output_type": "stream",
          "name": "stderr",
          "text": [
            "Installing package into ‘/usr/local/lib/R/site-library’\n",
            "(as ‘lib’ is unspecified)\n",
            "\n",
            "Downloading GitHub repo rstudio/tensorflow@HEAD\n",
            "\n"
          ]
        },
        {
          "output_type": "stream",
          "name": "stdout",
          "text": [
            "\n",
            "* checking for file ‘/tmp/RtmpONfnXA/remotes3c60291a44/rstudio-tensorflow-b8c5290/DESCRIPTION’ ... OK\n",
            "* preparing ‘tensorflow’:\n",
            "* checking DESCRIPTION meta-information ... OK\n",
            "* checking for LF line-endings in source and make files and shell scripts\n",
            "* checking for empty or unneeded directories\n",
            "* building ‘tensorflow_2.8.0.9000.tar.gz’\n",
            "\n"
          ]
        },
        {
          "output_type": "stream",
          "name": "stderr",
          "text": [
            "Installing package into ‘/usr/local/lib/R/site-library’\n",
            "(as ‘lib’ is unspecified)\n",
            "\n",
            "Installing package into ‘/usr/local/lib/R/site-library’\n",
            "(as ‘lib’ is unspecified)\n",
            "\n",
            "also installing the dependencies ‘listenv’, ‘parallelly’, ‘future’, ‘globals’, ‘future.apply’, ‘progressr’, ‘numDeriv’, ‘SQUAREM’, ‘lava’, ‘prodlim’, ‘iterators’, ‘gower’, ‘hardhat’, ‘ipred’, ‘timeDate’, ‘foreach’, ‘ModelMetrics’, ‘plyr’, ‘pROC’, ‘recipes’, ‘reshape2’\n",
            "\n",
            "\n",
            "Installing package into ‘/usr/local/lib/R/site-library’\n",
            "(as ‘lib’ is unspecified)\n",
            "\n",
            "Installing package into ‘/usr/local/lib/R/site-library’\n",
            "(as ‘lib’ is unspecified)\n",
            "\n",
            "also installing the dependencies ‘randomForest’, ‘itertools’\n",
            "\n",
            "\n",
            "Installing package into ‘/usr/local/lib/R/site-library’\n",
            "(as ‘lib’ is unspecified)\n",
            "\n",
            "Installing package into ‘/usr/local/lib/R/site-library’\n",
            "(as ‘lib’ is unspecified)\n",
            "\n",
            "also installing the dependencies ‘SparseM’, ‘MatrixModels’, ‘minqa’, ‘nloptr’, ‘zoo’, ‘carData’, ‘abind’, ‘pbkrtest’, ‘quantreg’, ‘maptools’, ‘lme4’, ‘DEoptimR’, ‘lmtest’, ‘RcppEigen’, ‘car’, ‘robustbase’, ‘sp’, ‘vcd’, ‘laeken’, ‘ranger’\n",
            "\n",
            "\n",
            "Warning message in install.packages(\"VIM\"):\n",
            "“installation of package ‘nloptr’ had non-zero exit status”\n",
            "Warning message in install.packages(\"VIM\"):\n",
            "“installation of package ‘lme4’ had non-zero exit status”\n",
            "Warning message in install.packages(\"VIM\"):\n",
            "“installation of package ‘pbkrtest’ had non-zero exit status”\n",
            "Warning message in install.packages(\"VIM\"):\n",
            "“installation of package ‘car’ had non-zero exit status”\n",
            "Warning message in install.packages(\"VIM\"):\n",
            "“installation of package ‘VIM’ had non-zero exit status”\n"
          ]
        }
      ],
      "source": [
        "install.packages('e1071')\n",
        "install.packages('tidyverse')\n",
        "install.packages('devtools')\n",
        "\n",
        "devtools::install_github(\"rstudio/keras\")\n",
        "devtools::install_github(\"rstudio/tensorflow\")\n",
        "install.packages(\"caret\")\n",
        "install.packages(\"ROSE\")\n",
        "install.packages(\"missForest\")\n",
        "install.packages(\"mice\")\n",
        "\n",
        "install.packages(\"VIM\")"
      ]
    },
    {
      "cell_type": "code",
      "source": [
        "library(keras)\n",
        "library(tensorflow)\n",
        "library(e1071)\n",
        "library(tidyverse)\n",
        "library(caret)\n",
        "library(ROSE)\n",
        "library(missForest)"
      ],
      "metadata": {
        "id": "cFxlflTgHSsc"
      },
      "execution_count": 5,
      "outputs": []
    },
    {
      "cell_type": "markdown",
      "source": [
        "### Data Preprocessing"
      ],
      "metadata": {
        "id": "hLi0d2Ul3fbK"
      }
    },
    {
      "cell_type": "code",
      "source": [
        "dat = read.csv('aug_train.csv')\n",
        "dat$city <- as.factor(dat$city)\n",
        "dat$gender <- as.factor(dat$gender)\n",
        "dat$relevent_experience <- as.factor(dat$relevent_experience)\n",
        "dat$enrolled_university <- as.factor(dat$enrolled_university)\n",
        "dat$education_level <- as.factor(dat$education_level)\n",
        "dat$major_discipline <- as.factor(dat$major_discipline)\n",
        "dat$experience <- as.factor(dat$experience)\n",
        "dat$company_size <- as.factor(dat$company_size)\n",
        "dat$company_type <- as.factor(dat$company_type)\n",
        "dat$last_new_job <- as.factor(dat$last_new_job)\n",
        "dat$target <- as.factor(dat$target)\n"
      ],
      "metadata": {
        "id": "LSEoupVt3jLi"
      },
      "execution_count": 6,
      "outputs": []
    },
    {
      "cell_type": "code",
      "source": [
        "dat[dat==''] <- NA\n",
        "summary(dat)"
      ],
      "metadata": {
        "colab": {
          "base_uri": "https://localhost:8080/",
          "height": 747
        },
        "id": "V6edTNJU3knn",
        "outputId": "be009901-453c-46fc-f64a-2e21e2c37232"
      },
      "execution_count": 7,
      "outputs": [
        {
          "output_type": "display_data",
          "data": {
            "text/plain": [
              "  enrollee_id          city      city_development_index    gender     \n",
              " Min.   :    1   city_103:4355   Min.   :0.4480               :    0  \n",
              " 1st Qu.: 8554   city_21 :2702   1st Qu.:0.7400         Female: 1238  \n",
              " Median :16982   city_16 :1533   Median :0.9030         Male  :13221  \n",
              " Mean   :16875   city_114:1336   Mean   :0.8288         Other :  191  \n",
              " 3rd Qu.:25170   city_160: 845   3rd Qu.:0.9200         NA's  : 4508  \n",
              " Max.   :33380   city_136: 586   Max.   :0.9490                       \n",
              "                 (Other) :7801                                        \n",
              "              relevent_experience       enrolled_university\n",
              " Has relevent experience:13792                    :    0   \n",
              " No relevent experience : 5366    Full time course: 3757   \n",
              "                                  no_enrollment   :13817   \n",
              "                                  Part time course: 1198   \n",
              "                                  NA's            :  386   \n",
              "                                                           \n",
              "                                                           \n",
              "       education_level         major_discipline   experience   \n",
              "               :    0   STEM           :14492   >20    : 3286  \n",
              " Graduate      :11598   Humanities     :  669   5      : 1430  \n",
              " High School   : 2017   Other          :  381   4      : 1403  \n",
              " Masters       : 4361   Business Degree:  327   3      : 1354  \n",
              " Phd           :  414   Arts           :  253   6      : 1216  \n",
              " Primary School:  308   (Other)        :  223   (Other):10404  \n",
              " NA's          :  460   NA's           : 2813   NA's   :   65  \n",
              "    company_size               company_type   last_new_job  training_hours  \n",
              " 50-99    :3083   Pvt Ltd            :9817   1      :8040   Min.   :  1.00  \n",
              " 100-500  :2571   Funded Startup     :1001   >4     :3290   1st Qu.: 23.00  \n",
              " 10000+   :2019   Public Sector      : 955   2      :2900   Median : 47.00  \n",
              " 10/49    :1471   Early Stage Startup: 603   never  :2452   Mean   : 65.37  \n",
              " 1000-4999:1328   NGO                : 521   4      :1029   3rd Qu.: 88.00  \n",
              " (Other)  :2748   (Other)            : 121   (Other):1024   Max.   :336.00  \n",
              " NA's     :5938   NA's               :6140   NA's   : 423                   \n",
              " target   \n",
              " 0:14381  \n",
              " 1: 4777  \n",
              "          \n",
              "          \n",
              "          \n",
              "          \n",
              "          "
            ]
          },
          "metadata": {}
        }
      ]
    },
    {
      "cell_type": "code",
      "source": [
        "mean(is.na(dat$city_development_index)) \n",
        "mean(is.na(dat$training_hours))"
      ],
      "metadata": {
        "colab": {
          "base_uri": "https://localhost:8080/",
          "height": 52
        },
        "id": "ilqvqwAvA65y",
        "outputId": "9ca633f5-90d6-4d2e-e45f-7b7e67e7990a"
      },
      "execution_count": 8,
      "outputs": [
        {
          "output_type": "display_data",
          "data": {
            "text/html": [
              "0"
            ],
            "text/markdown": "0",
            "text/latex": "0",
            "text/plain": [
              "[1] 0"
            ]
          },
          "metadata": {}
        },
        {
          "output_type": "display_data",
          "data": {
            "text/html": [
              "0"
            ],
            "text/markdown": "0",
            "text/latex": "0",
            "text/plain": [
              "[1] 0"
            ]
          },
          "metadata": {}
        }
      ]
    },
    {
      "cell_type": "code",
      "source": [
        "jobdata <- dat\n",
        "## 2nd missing data imputation\n",
        "library(missForest)\n",
        "imputed_Data <- missForest(jobdata[,c(-1,-2)])\n",
        "jobdata <- imputed_Data$ximp"
      ],
      "metadata": {
        "colab": {
          "base_uri": "https://localhost:8080/"
        },
        "id": "aOVEiJsk6Pkc",
        "outputId": "1fdbec95-678d-4908-dca2-0b42b94a5818"
      },
      "execution_count": 9,
      "outputs": [
        {
          "output_type": "stream",
          "name": "stdout",
          "text": [
            "  missForest iteration 1 in progress...done!\n",
            "  missForest iteration 2 in progress...done!\n",
            "  missForest iteration 3 in progress...done!\n",
            "  missForest iteration 4 in progress...done!\n",
            "  missForest iteration 5 in progress...done!\n",
            "  missForest iteration 6 in progress...done!\n"
          ]
        }
      ]
    },
    {
      "cell_type": "code",
      "source": [
        "summary(jobdata)"
      ],
      "metadata": {
        "colab": {
          "base_uri": "https://localhost:8080/",
          "height": 602
        },
        "id": "jP5vskfS-wi-",
        "outputId": "5bd2ba1c-58a2-4acf-8ac5-66beded5fc67"
      },
      "execution_count": 10,
      "outputs": [
        {
          "output_type": "display_data",
          "data": {
            "text/plain": [
              " city_development_index    gender                   relevent_experience\n",
              " Min.   :0.4480               :    0   Has relevent experience:13792   \n",
              " 1st Qu.:0.7400         Female: 1342   No relevent experience : 5366   \n",
              " Median :0.9030         Male  :17618                                   \n",
              " Mean   :0.8288         Other :  198                                   \n",
              " 3rd Qu.:0.9200                                                        \n",
              " Max.   :0.9490                                                        \n",
              "                                                                       \n",
              "       enrolled_university       education_level         major_discipline\n",
              "                 :    0                  :    0                  :    0  \n",
              " Full time course: 3948    Graduate      :11788   Arts           :  253  \n",
              " no_enrollment   :13998    High School   : 2131   Business Degree:  330  \n",
              " Part time course: 1212    Masters       : 4425   Humanities     :  682  \n",
              "                           Phd           :  424   No Major       :  226  \n",
              "                           Primary School:  390   Other          :  382  \n",
              "                                                  STEM           :17285  \n",
              "   experience      company_size               company_type   last_new_job\n",
              " >20    :3294   50-99    :3557                      :    0        :   0  \n",
              " 5      :1432   10000+   :3347   Early Stage Startup: 1207   >4   :3340  \n",
              " 4      :1404   100-500  :3153   Funded Startup     : 1250   1    :8181  \n",
              " 3      :1357   <10      :2403   NGO                :  657   2    :2940  \n",
              " 6      :1218   1000-4999:2206   Other              :  138   3    :1044  \n",
              " 2      :1131   10/49    :2147   Public Sector      : 1569   4    :1041  \n",
              " (Other):9322   (Other)  :2345   Pvt Ltd            :14337   never:2612  \n",
              " training_hours   target   \n",
              " Min.   :  1.00   0:14381  \n",
              " 1st Qu.: 23.00   1: 4777  \n",
              " Median : 47.00            \n",
              " Mean   : 65.37            \n",
              " 3rd Qu.: 88.00            \n",
              " Max.   :336.00            \n",
              "                           "
            ]
          },
          "metadata": {}
        }
      ]
    },
    {
      "cell_type": "code",
      "source": [
        "# jobdata <- dat\n",
        "# jobdata$gender[is.na(jobdata$gender)] = 'Male'\n",
        "# jobdata$enrolled_university[is.na(jobdata$enrolled_university)] = 'no_enrollment'\n",
        "# jobdata$education_level[is.na(jobdata$education_level)] = 'Graduate'\n",
        "# jobdata$major_discipline[is.na(jobdata$major_discipline)] = 'STEM'\n",
        "# jobdata$experience[is.na(jobdata$experience)] = '>20'\n",
        "# jobdata$company_size[is.na(jobdata$company_size)] = '50-99'\n",
        "# jobdata$company_type[is.na(jobdata$company_type)] = 'Pvt Ltd'\n",
        "# jobdata$last_new_job[is.na(jobdata$last_new_job)] = '1'\n",
        "# jobdata = jobdata[,-1]\n",
        "# summary(jobdata)"
      ],
      "metadata": {
        "id": "904GD5RHA_a3"
      },
      "execution_count": null,
      "outputs": []
    },
    {
      "cell_type": "code",
      "source": [
        "install.packages('abind')\n",
        " install.packages('zoo')\n",
        " install.packages('xts')\n",
        " install.packages('quantmod')\n",
        " install.packages('ROCR')\n",
        " install.packages(\"DMwR\")\n",
        " library(\"DMwR\")"
      ],
      "metadata": {
        "colab": {
          "base_uri": "https://localhost:8080/",
          "height": 686
        },
        "id": "njR48hTn5LOF",
        "outputId": "354930cc-57a3-46c1-e8dc-92f737551642"
      },
      "execution_count": 12,
      "outputs": [
        {
          "output_type": "stream",
          "name": "stderr",
          "text": [
            "Installing package into ‘/usr/local/lib/R/site-library’\n",
            "(as ‘lib’ is unspecified)\n",
            "\n",
            "Installing package into ‘/usr/local/lib/R/site-library’\n",
            "(as ‘lib’ is unspecified)\n",
            "\n",
            "Installing package into ‘/usr/local/lib/R/site-library’\n",
            "(as ‘lib’ is unspecified)\n",
            "\n",
            "Installing package into ‘/usr/local/lib/R/site-library’\n",
            "(as ‘lib’ is unspecified)\n",
            "\n",
            "also installing the dependency ‘TTR’\n",
            "\n",
            "\n",
            "Installing package into ‘/usr/local/lib/R/site-library’\n",
            "(as ‘lib’ is unspecified)\n",
            "\n",
            "also installing the dependencies ‘bitops’, ‘gtools’, ‘caTools’, ‘gplots’\n",
            "\n",
            "\n",
            "Installing package into ‘/usr/local/lib/R/site-library’\n",
            "(as ‘lib’ is unspecified)\n",
            "\n",
            "Warning message:\n",
            "“package ‘DMwR’ is not available for this version of R\n",
            "\n",
            "A version of this package for your version of R might be available elsewhere,\n",
            "see the ideas at\n",
            "https://cran.r-project.org/doc/manuals/r-patched/R-admin.html#Installing-packages”\n"
          ]
        },
        {
          "output_type": "error",
          "ename": "ERROR",
          "evalue": "ignored",
          "traceback": [
            "Error in library(\"DMwR\"): there is no package called ‘DMwR’\nTraceback:\n",
            "1. library(\"DMwR\")"
          ]
        }
      ]
    },
    {
      "cell_type": "code",
      "source": [
        "balancedData = ROSE(target ~ ., data = jobdata, seed = 1)$data"
      ],
      "metadata": {
        "id": "XPCHG9Siho9g"
      },
      "execution_count": null,
      "outputs": []
    },
    {
      "cell_type": "code",
      "source": [
        "summary(balancedData)"
      ],
      "metadata": {
        "colab": {
          "base_uri": "https://localhost:8080/",
          "height": 602
        },
        "id": "S0UFXAZd_Mh6",
        "outputId": "a17d8fe4-d1bb-41d4-fc36-0d20c2502f1d"
      },
      "execution_count": null,
      "outputs": [
        {
          "output_type": "display_data",
          "data": {
            "text/plain": [
              " city_development_index    gender                   relevent_experience\n",
              " Min.   :0.3776               :    0   Has relevent experience:13232   \n",
              " 1st Qu.:0.6623         Female: 1362   No relevent experience : 5926   \n",
              " Median :0.8755         Male  :17598                                   \n",
              " Mean   :0.8052         Other :  198                                   \n",
              " 3rd Qu.:0.9185                                                        \n",
              " Max.   :1.0448                                                        \n",
              "                                                                       \n",
              "       enrolled_university       education_level         major_discipline\n",
              "                 :    0                  :    0                  :    0  \n",
              " Full time course: 4586    Graduate      :12252   Arts           :  243  \n",
              " no_enrollment   :13356    High School   : 2027   Business Degree:  359  \n",
              " Part time course: 1216    Masters       : 4186   Humanities     :  618  \n",
              "                           Phd           :  363   No Major       :  250  \n",
              "                           Primary School:  330   Other          :  381  \n",
              "                                                  STEM           :17307  \n",
              "   experience      company_size               company_type   last_new_job\n",
              " >20    :2843   10000+   :3500                      :    0        :   0  \n",
              " 4      :1586   50-99    :3311   Early Stage Startup: 1241   >4   :3015  \n",
              " 5      :1535   100-500  :2932   Funded Startup     : 1061   1    :8240  \n",
              " 3      :1498   10/49    :2403   NGO                :  629   2    :2999  \n",
              " 6      :1290   <10      :2399   Other              :  154   3    :1039  \n",
              " 2      :1289   1000-4999:2084   Public Sector      : 1806   4    :1061  \n",
              " (Other):9117   (Other)  :2529   Pvt Ltd            :14267   never:2804  \n",
              " training_hours   target  \n",
              " Min.   :-44.78   0:9621  \n",
              " 1st Qu.: 23.35   1:9537  \n",
              " Median : 48.09           \n",
              " Mean   : 64.83           \n",
              " 3rd Qu.: 88.72           \n",
              " Max.   :367.27           \n",
              "                          "
            ]
          },
          "metadata": {}
        }
      ]
    },
    {
      "cell_type": "code",
      "source": [
        "set.seed(12)\n",
        "baldata = data.matrix(jobdata)\n",
        "n <- nrow(baldata)\n",
        "train.id <- sample(1:n,round(0.8*n)) \n",
        "train <- baldata[train.id,]\n",
        "test <- baldata[-train.id,]"
      ],
      "metadata": {
        "id": "Pl-2bd1BBBxc"
      },
      "execution_count": 85,
      "outputs": []
    },
    {
      "cell_type": "code",
      "source": [
        "train = ROSE(target ~ ., data = data.frame(train), seed = 1)$data"
      ],
      "metadata": {
        "id": "QykpQnpKepa0"
      },
      "execution_count": 86,
      "outputs": []
    },
    {
      "cell_type": "code",
      "source": [
        "train <- data.matrix(train)\n",
        "trainX <- as.matrix(train[, 1:11], c(1,11,nrow(train)))\n",
        "trainY <- to_categorical(matrix(as.numeric(train[,12])-1))\n",
        " \n",
        "testX <- as.matrix(test[, 1:11], c(1,11,nrow(test)))\n",
        "testY <- to_categorical(matrix(as.numeric(test[,12])-1))"
      ],
      "metadata": {
        "id": "WtpOlyGtHyCc"
      },
      "execution_count": 89,
      "outputs": []
    },
    {
      "cell_type": "markdown",
      "source": [
        "### ANN"
      ],
      "metadata": {
        "id": "OAn1bayNiEAX"
      }
    },
    {
      "cell_type": "code",
      "source": [
        ""
      ],
      "metadata": {
        "id": "B5wT99Zj-t2H"
      },
      "execution_count": null,
      "outputs": []
    },
    {
      "cell_type": "code",
      "source": [
        "model <- keras_model_sequential() \n",
        " \n",
        "model %>% layer_dense(units=80, activation = \"softmax\", input_shape = c(11)) %>% \n",
        "          layer_dense(units=80, activation = \"softmax\", input_shape = c(11)) %>% \n",
        "          layer_dense(units = 2, activation = \"sigmoid\")  \n",
        " \n",
        "model %>% compile(optimizer = \"adam\", \n",
        "                  loss = \"binary_crossentropy\",  \n",
        "                  metric=c(\"accuracy\"))"
      ],
      "metadata": {
        "id": "oL_I7vrtV4YY"
      },
      "execution_count": 90,
      "outputs": []
    },
    {
      "cell_type": "code",
      "source": [
        "model %>% fit(trainX, trainY,\n",
        "               epochs = 50, \n",
        "               batch_size = 50)\n"
      ],
      "metadata": {
        "id": "4pAkVt32WAju"
      },
      "execution_count": 91,
      "outputs": []
    },
    {
      "cell_type": "code",
      "source": [
        ""
      ],
      "metadata": {
        "id": "oFaMYp__-8KF"
      },
      "execution_count": null,
      "outputs": []
    },
    {
      "cell_type": "code",
      "source": [
        "Kfold_CV <- function(K,batch_size,epochs,train,train_label){\n",
        "  fold_size = floor(nrow(train)/K)\n",
        "  cv_error = rep(0,K)\n",
        "  for(i in 1:K){\n",
        "    # iteratively select K-1 folds as training data in CV procedure, remaining as test data.\n",
        "    if(i!=K){\n",
        "      CV_test_id = ((i-1)*fold_size+1):(i*fold_size)\n",
        "    }else{\n",
        "      CV_test_id = ((i-1)*fold_size+1):nrow(train)\n",
        "    }\n",
        "    train.cnn = train[-CV_test_id,]\n",
        "    test.cnn = train[CV_test_id,]\n",
        "    # train.cnn = array(CV_train, dim = c(dim(CV_train)[1], dim(CV_train)[2]))\n",
        "    # test.cnn = array(CV_test, dim = c(dim(CV_test)[1], dim(CV_test)[2]))\n",
        "    # print(dim(train.cnn))\n",
        "\n",
        "    # Fit knn\n",
        "    print(dim(train.cnn))\n",
        "    \n",
        "    history <- model%>% fit(train.cnn,train_label[-CV_test_id,],batch_size=batch_size,epochs,validation_split=0)\n",
        "    score <- model%>% evaluate(test.cnn,train_label[CV_test_id,])\n",
        "\n",
        "    # Calculate CV error by taking averages\n",
        "    cv_error[i] = score[2]\n",
        "  }\n",
        "  return(mean(cv_error))\n",
        "}"
      ],
      "metadata": {
        "id": "01Zo_X0XFqaM"
      },
      "execution_count": null,
      "outputs": []
    },
    {
      "cell_type": "code",
      "source": [
        "dim(trainY)"
      ],
      "metadata": {
        "colab": {
          "base_uri": "https://localhost:8080/",
          "height": 35
        },
        "id": "0X8o9X45LaVJ",
        "outputId": "b527b9c2-a65a-4834-8de9-3444961a388a"
      },
      "execution_count": null,
      "outputs": [
        {
          "output_type": "display_data",
          "data": {
            "text/html": [
              "<style>\n",
              ".list-inline {list-style: none; margin:0; padding: 0}\n",
              ".list-inline>li {display: inline-block}\n",
              ".list-inline>li:not(:last-child)::after {content: \"\\00b7\"; padding: 0 .5ex}\n",
              "</style>\n",
              "<ol class=list-inline><li>15326</li><li>2</li></ol>\n"
            ],
            "text/markdown": "1. 15326\n2. 2\n\n\n",
            "text/latex": "\\begin{enumerate*}\n\\item 15326\n\\item 2\n\\end{enumerate*}\n",
            "text/plain": [
              "[1] 15326     2"
            ]
          },
          "metadata": {}
        }
      ]
    },
    {
      "cell_type": "code",
      "source": [
        "set.seed(12)\n",
        "K_fold=5\n",
        "batchSize = c(16,32,64)\n",
        "epochsVec = c(10,20,30,50)\n",
        "cv_error = matrix(0,length(batchSize),length(epochsVec))\n",
        "\n",
        "for(i in 1:length(batch_size)){ \n",
        "\n",
        "  for (j in 1:length(epochsVec)) {\n",
        "\n",
        "    print(c(i,j))\n",
        "    \n",
        "    cv_error[i,j] = Kfold_CV(K=K_fold,batch_size=batchSize[i],epochs=epochsVec[j],train=trainX,train_label=trainY)  \n",
        "\n",
        "  }\n",
        "  \n",
        "}"
      ],
      "metadata": {
        "id": "IHKE77bPBUSb"
      },
      "execution_count": null,
      "outputs": []
    },
    {
      "cell_type": "code",
      "source": [
        "cv_error"
      ],
      "metadata": {
        "colab": {
          "base_uri": "https://localhost:8080/",
          "height": 128
        },
        "id": "BZJfQoUoPvO5",
        "outputId": "793935e5-5a8a-4865-fe9e-13adf16d6977"
      },
      "execution_count": null,
      "outputs": [
        {
          "output_type": "display_data",
          "data": {
            "text/html": [
              "<table class=\"dataframe\">\n",
              "<caption>A matrix: 3 × 4 of type dbl</caption>\n",
              "<tbody>\n",
              "\t<tr><td>0.6307607</td><td>0.6306291</td><td>0.6133405</td><td>0.6077920</td></tr>\n",
              "\t<tr><td>0.6601879</td><td>0.6427033</td><td>0.6510542</td><td>0.6344174</td></tr>\n",
              "\t<tr><td>0.6868754</td><td>0.6660585</td><td>0.6595391</td><td>0.6729780</td></tr>\n",
              "</tbody>\n",
              "</table>\n"
            ],
            "text/markdown": "\nA matrix: 3 × 4 of type dbl\n\n| 0.6307607 | 0.6306291 | 0.6133405 | 0.6077920 |\n| 0.6601879 | 0.6427033 | 0.6510542 | 0.6344174 |\n| 0.6868754 | 0.6660585 | 0.6595391 | 0.6729780 |\n\n",
            "text/latex": "A matrix: 3 × 4 of type dbl\n\\begin{tabular}{llll}\n\t 0.6307607 & 0.6306291 & 0.6133405 & 0.6077920\\\\\n\t 0.6601879 & 0.6427033 & 0.6510542 & 0.6344174\\\\\n\t 0.6868754 & 0.6660585 & 0.6595391 & 0.6729780\\\\\n\\end{tabular}\n",
            "text/plain": [
              "     [,1]      [,2]      [,3]      [,4]     \n",
              "[1,] 0.6307607 0.6306291 0.6133405 0.6077920\n",
              "[2,] 0.6601879 0.6427033 0.6510542 0.6344174\n",
              "[3,] 0.6868754 0.6660585 0.6595391 0.6729780"
            ]
          },
          "metadata": {}
        }
      ]
    },
    {
      "cell_type": "code",
      "source": [
        "# model %>% fit(trainX, trainY,\n",
        "#                epochs = 16, \n",
        "#                batch_size = 60)"
      ],
      "metadata": {
        "id": "idbHi4XWfRka"
      },
      "execution_count": 92,
      "outputs": []
    },
    {
      "cell_type": "code",
      "source": [
        "pred <- model %>% predict(testX) \n",
        "pred <- format(round(pred, 2), nsamll = 4)\n",
        "result <- data.frame(\"0\"=pred[,1], \"1\"=pred[,2],  \n",
        "          \"predicted\" = ifelse(max.col(pred[ ,1:2])==1, 0, 1),\n",
        "          original = as.numeric(test[,12])-1)"
      ],
      "metadata": {
        "id": "GMb6NgQKY974"
      },
      "execution_count": 93,
      "outputs": []
    },
    {
      "cell_type": "code",
      "source": [
        ""
      ],
      "metadata": {
        "id": "0gkzinI1Mzh_"
      },
      "execution_count": null,
      "outputs": []
    },
    {
      "cell_type": "code",
      "source": [
        "result$predicted = as.factor(result$predicted)\n",
        "result$original = as.factor(result$original)"
      ],
      "metadata": {
        "id": "9gpz8npEamZC"
      },
      "execution_count": 94,
      "outputs": []
    },
    {
      "cell_type": "code",
      "source": [
        "scores <- model %>% evaluate(testX, testY)\n",
        "print(scores)"
      ],
      "metadata": {
        "colab": {
          "base_uri": "https://localhost:8080/"
        },
        "id": "ZAgLqMn4ZHH6",
        "outputId": "c40aa762-b44e-4605-e658-5511b10c5fda"
      },
      "execution_count": 95,
      "outputs": [
        {
          "output_type": "stream",
          "name": "stdout",
          "text": [
            "     loss  accuracy \n",
            "0.5900058 0.7325156 \n"
          ]
        }
      ]
    },
    {
      "cell_type": "code",
      "source": [
        "scoresTrain <- model %>% evaluate(trainX, trainY)\n",
        "print(scoresTrain)"
      ],
      "metadata": {
        "colab": {
          "base_uri": "https://localhost:8080/"
        },
        "id": "ht9xPZoVAF9O",
        "outputId": "aea17ab3-929c-4255-fcda-57f4c061f5c2"
      },
      "execution_count": 96,
      "outputs": [
        {
          "output_type": "stream",
          "name": "stdout",
          "text": [
            "     loss  accuracy \n",
            "0.6218069 0.6658619 \n"
          ]
        }
      ]
    },
    {
      "cell_type": "code",
      "source": [
        "cfm = confusionMatrix(result$predicted, result$original)\n",
        "print(cfm)"
      ],
      "metadata": {
        "colab": {
          "base_uri": "https://localhost:8080/"
        },
        "id": "r9Nji5-fZmph",
        "outputId": "98f8c5cf-a385-43f9-fee1-bb89beeb46b4"
      },
      "execution_count": 97,
      "outputs": [
        {
          "output_type": "stream",
          "name": "stdout",
          "text": [
            "Confusion Matrix and Statistics\n",
            "\n",
            "          Reference\n",
            "Prediction    0    1\n",
            "         0 2330  504\n",
            "         1  523  475\n",
            "                                         \n",
            "               Accuracy : 0.732          \n",
            "                 95% CI : (0.7177, 0.746)\n",
            "    No Information Rate : 0.7445         \n",
            "    P-Value [Acc > NIR] : 0.9633         \n",
            "                                         \n",
            "                  Kappa : 0.3            \n",
            "                                         \n",
            " Mcnemar's Test P-Value : 0.5743         \n",
            "                                         \n",
            "            Sensitivity : 0.8167         \n",
            "            Specificity : 0.4852         \n",
            "         Pos Pred Value : 0.8222         \n",
            "         Neg Pred Value : 0.4760         \n",
            "             Prevalence : 0.7445         \n",
            "         Detection Rate : 0.6080         \n",
            "   Detection Prevalence : 0.7396         \n",
            "      Balanced Accuracy : 0.6509         \n",
            "                                         \n",
            "       'Positive' Class : 0              \n",
            "                                         \n"
          ]
        }
      ]
    },
    {
      "cell_type": "code",
      "source": [
        "data.frame(cfm$table)"
      ],
      "metadata": {
        "colab": {
          "base_uri": "https://localhost:8080/",
          "height": 224
        },
        "id": "MRtrryXQHpFY",
        "outputId": "2bf37d6b-1480-4303-906c-5f048c0679f3"
      },
      "execution_count": 106,
      "outputs": [
        {
          "output_type": "display_data",
          "data": {
            "text/html": [
              "<table class=\"dataframe\">\n",
              "<caption>A data.frame: 4 × 3</caption>\n",
              "<thead>\n",
              "\t<tr><th scope=col>Prediction</th><th scope=col>Reference</th><th scope=col>Freq</th></tr>\n",
              "\t<tr><th scope=col>&lt;fct&gt;</th><th scope=col>&lt;fct&gt;</th><th scope=col>&lt;int&gt;</th></tr>\n",
              "</thead>\n",
              "<tbody>\n",
              "\t<tr><td>0</td><td>0</td><td>2330</td></tr>\n",
              "\t<tr><td>1</td><td>0</td><td> 523</td></tr>\n",
              "\t<tr><td>0</td><td>1</td><td> 504</td></tr>\n",
              "\t<tr><td>1</td><td>1</td><td> 475</td></tr>\n",
              "</tbody>\n",
              "</table>\n"
            ],
            "text/markdown": "\nA data.frame: 4 × 3\n\n| Prediction &lt;fct&gt; | Reference &lt;fct&gt; | Freq &lt;int&gt; |\n|---|---|---|\n| 0 | 0 | 2330 |\n| 1 | 0 |  523 |\n| 0 | 1 |  504 |\n| 1 | 1 |  475 |\n\n",
            "text/latex": "A data.frame: 4 × 3\n\\begin{tabular}{lll}\n Prediction & Reference & Freq\\\\\n <fct> & <fct> & <int>\\\\\n\\hline\n\t 0 & 0 & 2330\\\\\n\t 1 & 0 &  523\\\\\n\t 0 & 1 &  504\\\\\n\t 1 & 1 &  475\\\\\n\\end{tabular}\n",
            "text/plain": [
              "  Prediction Reference Freq\n",
              "1 0          0         2330\n",
              "2 1          0          523\n",
              "3 0          1          504\n",
              "4 1          1          475"
            ]
          },
          "metadata": {}
        }
      ]
    },
    {
      "cell_type": "code",
      "source": [
        "install.packages(\"neuralnet\")\n",
        "\n",
        "# load library\n",
        "library(neuralnet)\n"
      ],
      "metadata": {
        "colab": {
          "base_uri": "https://localhost:8080/"
        },
        "id": "2FI2OJTwEJSA",
        "outputId": "53277556-fa0f-4447-b332-2f38e7903a28"
      },
      "execution_count": 61,
      "outputs": [
        {
          "output_type": "stream",
          "name": "stderr",
          "text": [
            "Installing package into ‘/usr/local/lib/R/site-library’\n",
            "(as ‘lib’ is unspecified)\n",
            "\n"
          ]
        }
      ]
    },
    {
      "cell_type": "code",
      "source": [
        "library(neuralnet)\n",
        "# fit neural network\n",
        "set.seed(12)\n",
        "NN = neuralnet(target ~ ., train, hidden = 3 , linear.output = T )\n",
        "\n",
        "# plot neural network\n",
        "plot(NN)"
      ],
      "metadata": {
        "id": "PRgeLE4n87XP"
      },
      "execution_count": 100,
      "outputs": []
    },
    {
      "cell_type": "code",
      "source": [
        ""
      ],
      "metadata": {
        "id": "XQUmW1S-D17N"
      },
      "execution_count": null,
      "outputs": []
    }
  ]
}